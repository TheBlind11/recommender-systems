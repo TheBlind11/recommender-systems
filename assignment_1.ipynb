{
 "cells": [
  {
   "cell_type": "code",
   "execution_count": 185,
   "metadata": {},
   "outputs": [
    {
     "name": "stdout",
     "output_type": "stream",
     "text": [
      "ratings.csv has 100836 rows. \n"
     ]
    }
   ],
   "source": [
    "import pandas as pd\n",
    "import numpy as np\n",
    "import math\n",
    "import warnings\n",
    "\n",
    "warnings.filterwarnings(\"error\")\n",
    "\n",
    "ratings = pd.read_csv(\"dataset/ratings.csv\").drop('timestamp', axis = 1) #open csv file and drop 'timestamp' column, it is not necessary\n",
    "movies = pd.read_csv(\"dataset/movies.csv\").drop(['title', 'genres'], axis = 1) #open csv file and drop 'timestamp'  and 'genres' columns, they are not necessary\n",
    "rows_count = len(ratings) #number of rows\n",
    "print(f'ratings.csv has {rows_count} rows. ') #check number of rows\n"
   ]
  },
  {
   "cell_type": "code",
   "execution_count": 186,
   "metadata": {},
   "outputs": [],
   "source": [
    "def pearson_correlation(df_user1, df_user2): #Pearson correlation function for computing similarities between users\n",
    "    merged_ratings = df_user1.merge(df_user2, on = \"movieId\", how = \"inner\") #merged df with movies rated by both users\n",
    "    if merged_ratings.empty == True:\n",
    "        return math.nan\n",
    "    \n",
    "    ratings_user1 = merged_ratings['rating_x']\n",
    "    ratings_user2 = merged_ratings['rating_y']\n",
    "    mean_user1 = ratings_user1.mean() #mean of ratings of user1\n",
    "    mean_user2 = ratings_user2.mean() #mean of ratings of user2\n",
    "    \n",
    "    num = np.sum((ratings_user1 - mean_user1)*(ratings_user2 - mean_user2))\n",
    "    den = np.sqrt(np.sum((ratings_user1 - mean_user1)**2)) * np.sqrt(np.sum((ratings_user2 - mean_user2)**2))\n",
    "    try:\n",
    "        coef = num/den\n",
    "    except (RuntimeWarning, ZeroDivisionError):\n",
    "        return math.nan\n",
    "    \n",
    "    return coef\n",
    "\n",
    "#pearson_correlation(user1_ratings, user2_ratings)"
   ]
  },
  {
   "cell_type": "code",
   "execution_count": 215,
   "metadata": {},
   "outputs": [],
   "source": [
    "def prediction(userId, movieId, ratings): #prediction function\n",
    "    df_userA = ratings[ratings['userId'] == userId]\n",
    "    userA_mean = df_userA['rating'].mean()\n",
    "    users_for_film = ratings[ratings['movieId'] == movieId].drop(['movieId', 'rating'], axis = 1) #users that rated a specific film\n",
    "    num = 0\n",
    "    den = 0\n",
    "    for user in users_for_film['userId']:\n",
    "        df_userB = ratings[ratings['userId'] == user]\n",
    "        sim = pearson_correlation(df_userA, df_userB)\n",
    "        if not math.isnan(sim):\n",
    "            num += sim * (df_userB[df_userB['movieId'] == movieId].iloc[0]['rating'] - df_userB['rating'].mean())\n",
    "            den += sim\n",
    "\n",
    "    try:\n",
    "        div = num/den\n",
    "        pred = userA_mean + div\n",
    "    except (RuntimeWarning, ZeroDivisionError):\n",
    "        return math.nan\n",
    "    \n",
    "    return pred\n"
   ]
  },
  {
   "cell_type": "code",
   "execution_count": null,
   "metadata": {},
   "outputs": [],
   "source": [
    "USER_A = 1\n",
    "USER_A_ratings = ratings[ratings[\"userId\"] == USER_A]\n",
    "USER_A_mean = USER_A_ratings['rating'].mean()\n",
    "USER_A_films = USER_A_ratings['movieId']\n",
    "\n",
    "def func(x, dic):\n",
    "    user_b_ratings = ratings[ratings['userId'] == x]\n",
    "    corr = pearson_correlation(USER_A_ratings, user_b_ratings)\n",
    "    if not math.isnan(corr):\n",
    "        dic.update({x : corr})\n",
    "\n",
    "def func2(x, dic):\n",
    "    prd = prediction(USER_A, x, ratings)\n",
    "    if not math.isnan(prd):\n",
    "        dic.update({x : prd})\n",
    "\n",
    "\n",
    "def main():\n",
    "    #ratings = pd.read_csv(\"dataset/ratings.csv\").drop('timestamp', axis = 1) #open csv file and drop 'timestamp' column, it is not necessary\n",
    "    users = ratings.groupby('userId').groups.keys() #all the users of the dataset\n",
    "    sim = dict() #dictionary of the result\n",
    "    pd.DataFrame.from_dict(users).map(lambda x: func(x, sim) if(x != USER_A) else None) #call the function of similarity on every user\n",
    "    top10usr = dict(sorted(sim.items(), key=lambda x:x[1], reverse=True)[:10]) #get top 10 users similar to user in input\n",
    "    print(f'top 10 users similar to user in input are {top10usr}')\n",
    "    \n",
    "    mvs = pd.concat([movies,USER_A_films]).drop_duplicates(keep=False) #get movies not rated by user\n",
    "    pred = dict()\n",
    "    mvs['movieId'].map(lambda x: func2(x, pred))\n",
    "    top10mvs = dict(sorted(pred.items(), key=lambda x:x[1], reverse=True)[:10]) #get top 10 users similar to user in input\n",
    "    print(f'top 10 films to suggest to user in input are {top10mvs}')\n",
    "\n",
    "\n",
    "main()"
   ]
  }
 ],
 "metadata": {
  "kernelspec": {
   "display_name": "recommender_systems",
   "language": "python",
   "name": "python3"
  },
  "language_info": {
   "codemirror_mode": {
    "name": "ipython",
    "version": 3
   },
   "file_extension": ".py",
   "mimetype": "text/x-python",
   "name": "python",
   "nbconvert_exporter": "python",
   "pygments_lexer": "ipython3",
   "version": "3.10.13"
  }
 },
 "nbformat": 4,
 "nbformat_minor": 2
}
