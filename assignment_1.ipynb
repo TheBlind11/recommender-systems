{
 "cells": [
  {
   "cell_type": "code",
   "execution_count": 1,
   "metadata": {},
   "outputs": [
    {
     "name": "stdout",
     "output_type": "stream",
     "text": [
      "ratings.csv has 100836 rows. \n"
     ]
    }
   ],
   "source": [
    "import pandas as pd\n",
    "import numpy as np\n",
    "import math\n",
    "import warnings\n",
    "\n",
    "warnings.filterwarnings(\"error\")\n",
    "\n",
    "ratings = pd.read_csv(\"dataset/ratings.csv\").drop('timestamp', axis = 1) #open csv file and drop 'timestamp' column, it is not necessary\n",
    "movies = pd.read_csv(\"dataset/movies.csv\").drop(['genres'], axis = 1) #open csv file and drop 'timestamp'  and 'genres' columns, they are not necessary\n",
    "rows_count = len(ratings) #number of rows\n",
    "print(f'ratings.csv has {rows_count} rows. ') #check number of rows\n"
   ]
  },
  {
   "cell_type": "code",
   "execution_count": 23,
   "metadata": {},
   "outputs": [],
   "source": [
    "def jaccard_similarity(df_user1, df_user2): #Jaccard similarity function for computing similarities between users\n",
    "    merged_ratings = df_user1.merge(df_user2, on = \"movieId\", how = \"inner\") #number of ratings of movies in common\n",
    "    same_rates = len(set(merged_ratings['rating_x']) & set(merged_ratings['rating_y'])) #number of same rates on the same movies\n",
    "    if merged_ratings.empty == True or same_rates == 0:\n",
    "        return math.nan\n",
    "\n",
    "    try:\n",
    "        jac = len(same_rates)/len(merged_ratings)\n",
    "    except (RuntimeWarning, ZeroDivisionError):\n",
    "        return math.nan\n",
    "\n",
    "    return jac"
   ]
  },
  {
   "cell_type": "code",
   "execution_count": 27,
   "metadata": {},
   "outputs": [],
   "source": [
    "def euclidean_distance_similarity(df_user1, df_user2):\n",
    "    merged_ratings = df_user1.merge(df_user2, on = \"movieId\", how = \"inner\") #merged df with movies rated by both users\n",
    "    if merged_ratings.empty == True:\n",
    "        return math.nan\n",
    "    \n",
    "    ratings_user1 = merged_ratings['rating_x']\n",
    "    ratings_user2 = merged_ratings['rating_y']\n",
    "    dis = np.sqrt(np.sum((ratings_user1**2) - (ratings_user2**2)))\n",
    "\n",
    "    return dis"
   ]
  },
  {
   "cell_type": "code",
   "execution_count": 11,
   "metadata": {},
   "outputs": [],
   "source": [
    "def cosine_similarity(df_user1, df_user2): #Cosine similarity function for computing similarities between users\n",
    "    merged_ratings = df_user1.merge(df_user2, on = \"movieId\", how = \"inner\") #merged df with movies rated by both users\n",
    "    if merged_ratings.empty == True:\n",
    "        return math.nan\n",
    "    \n",
    "    ratings_user1 = merged_ratings['rating_x'] #vector of ratings of user1\n",
    "    ratings_user2 = merged_ratings['rating_y'] #vector of ratings of user2\n",
    "    \n",
    "    num = np.sum((ratings_user1 * ratings_user2))\n",
    "    den = np.sqrt(np.sum((ratings_user1**2))) * np.sqrt(np.sum((ratings_user2**2)))\n",
    "\n",
    "    try:\n",
    "        cos = num/den\n",
    "    except (RuntimeWarning, ZeroDivisionError):\n",
    "        return math.nan\n",
    "    \n",
    "    return cos"
   ]
  },
  {
   "cell_type": "code",
   "execution_count": 22,
   "metadata": {},
   "outputs": [],
   "source": [
    "def pearson_correlation(df_user1, df_user2): #Pearson correlation function for computing similarities between users\n",
    "    merged_ratings = df_user1.merge(df_user2, on = \"movieId\", how = \"inner\") #merged df with movies rated by both users\n",
    "    if merged_ratings.empty == True:\n",
    "        return math.nan\n",
    "    \n",
    "    ratings_user1 = merged_ratings['rating_x']\n",
    "    ratings_user2 = merged_ratings['rating_y']\n",
    "    mean_user1 = ratings_user1.mean() #mean of ratings of user1\n",
    "    mean_user2 = ratings_user2.mean() #mean of ratings of user2\n",
    "    \n",
    "    num = np.sum((ratings_user1 - mean_user1)*(ratings_user2 - mean_user2))\n",
    "    den = np.sqrt(np.sum((ratings_user1 - mean_user1)**2)) * np.sqrt(np.sum((ratings_user2 - mean_user2)**2))\n",
    "    try:\n",
    "        coef = num/den\n",
    "    except (RuntimeWarning, ZeroDivisionError):\n",
    "        return math.nan\n",
    "    \n",
    "    return coef"
   ]
  },
  {
   "cell_type": "code",
   "execution_count": 3,
   "metadata": {},
   "outputs": [],
   "source": [
    "def prediction(userId, top10, movieId, ratings): #prediction function\n",
    "    df_userA = ratings[ratings['userId'] == userId]\n",
    "    userA_mean = df_userA['rating'].mean()\n",
    "    users_for_film = ratings[ratings['movieId'] == movieId].drop(['movieId', 'rating'], axis = 1) #users that rated a specific film\n",
    "    merged_users = set(users_for_film['userId']) & top10.keys() #get the users in top10 that rated the film in input\n",
    "            \n",
    "    num = 0\n",
    "    den = 0\n",
    "    if bool(set):\n",
    "        for user in merged_users:\n",
    "            df_userB = ratings[ratings['userId'] == user]\n",
    "            sim = top10.get(user) #get pearson correlation value between the users\n",
    "            if not math.isnan(sim):\n",
    "                num += sim * (df_userB[df_userB['movieId'] == movieId].iloc[0]['rating'] - df_userB['rating'].mean())\n",
    "                den += sim\n",
    "\n",
    "        try:\n",
    "            div = num/den\n",
    "            pred = userA_mean + div\n",
    "        except (RuntimeWarning, ZeroDivisionError):\n",
    "            return math.nan\n",
    "    else:\n",
    "        return math.nan\n",
    "    \n",
    "    return pred"
   ]
  },
  {
   "cell_type": "code",
   "execution_count": 28,
   "metadata": {},
   "outputs": [
    {
     "name": "stdout",
     "output_type": "stream",
     "text": [
      "top 10 users similar to user 200 are {414: 95.06971126494494, 68: 90.8129946648606, 480: 81.11257609027098, 474: 80.02968199362034, 274: 78.16009211867653, 599: 76.83911764199274, 380: 76.04110730387873, 448: 75.06164133563827, 177: 74.8715566820939, 249: 74.30006729472053}\n",
      "top 10 films to suggest to user 200 in input are {'Once Upon a Time in America (1984)': 5.962508994885765, 'Towering Inferno, The (1974)': 5.962508994885765, 'True Grit (1969)': 5.962508994885765, 'The Big Bus (1976)': 5.962508994885765, 'Rollerball (1975)': 5.962508994885765, 'Victory (a.k.a. Escape to Victory) (1981)': 5.962508994885765, 'Gigantic (A Tale of Two Johns) (2002)': 5.962508994885765, 'Seve (2014)': 5.962508994885765, 'On the Beach (1959)': 5.667830199165833, 'Badlands (1973)': 5.667830199165833}\n"
     ]
    }
   ],
   "source": [
    "USER_A = 200\n",
    "USER_A_ratings = ratings[ratings[\"userId\"] == USER_A]\n",
    "USER_A_mean = USER_A_ratings['rating'].mean()\n",
    "USER_A_films = USER_A_ratings['movieId']\n",
    "\n",
    "def get_similarity(user, dict):\n",
    "    user_b_ratings = ratings[ratings['userId'] == user]\n",
    "    \n",
    "    #pearson correlation\n",
    "    #corr = pearson_correlation(USER_A_ratings, user_b_ratings) #calculate pearson correlation value between the users\n",
    "    #if not math.isnan(corr):\n",
    "        #dict.update({user : corr}) #add the user and the related pearson correlation value\n",
    "    \n",
    "    #jaccard similarity\n",
    "    #jac = jaccard_similarity(USER_A_ratings, user_b_ratings)\n",
    "    #if not math.isnan(jac):\n",
    "        #dict.update({user : jac})\n",
    "\n",
    "    #cosine similarity\n",
    "    #cos = cosine_similarity(USER_A_ratings, user_b_ratings)\n",
    "    #if not math.isnan(cos):\n",
    "        #dict.update({user : cos})\n",
    "\n",
    "    #euclidean distance\n",
    "    dis = euclidean_distance_similarity(USER_A_ratings, user_b_ratings)\n",
    "    if not math.isnan(dis):\n",
    "        dict.update({user : dis})\n",
    "\n",
    "def get_prediction(movie, top10usr, dict):\n",
    "    prd = prediction(USER_A, top10usr, movie, ratings) #calculate prediction on a specific movie\n",
    "    if not math.isnan(prd):\n",
    "        dict.update({movies[movies['movieId'] == movie].iloc[0]['title'] : prd}) #add the film title and the prediction to the dict\n",
    "\n",
    "\n",
    "def main():\n",
    "    #ratings = pd.read_csv(\"dataset/ratings.csv\").drop('timestamp', axis = 1) #open csv file and drop 'timestamp' column, it is not necessary\n",
    "    users = ratings.groupby('userId').groups.keys() #all the users of the dataset\n",
    "    topusr = dict() #dictionary of the result\n",
    "    pd.DataFrame.from_dict(users).map(lambda x: get_similarity(x, topusr) if(x != USER_A) else None) #call the function of similarity on every user\n",
    "    top10usr = dict(sorted(topusr.items(), key=lambda x:x[1], reverse=True)[:10]) #get top 10 users similar to user in input\n",
    "    print(f'top 10 users similar to user {USER_A} are {top10usr}')\n",
    "    \n",
    "    mvs = pd.concat([movies,USER_A_films]).drop_duplicates(keep=False) #get movies not rated by user\n",
    "    #pred = dict()\n",
    "    mvs_sugg = dict() #movies to sugget to user in input\n",
    "    mvs['movieId'].map(lambda x: get_prediction(x, top10usr, mvs_sugg))\n",
    "    top10mvs = dict(sorted(mvs_sugg.items(), key=lambda x:x[1], reverse=True)[:10]) #get top 10 films to suggest to user in input\n",
    "    print(f'top 10 films to suggest to user {USER_A} in input are {top10mvs}')\n",
    "\n",
    "\n",
    "main()"
   ]
  }
 ],
 "metadata": {
  "kernelspec": {
   "display_name": "recommender_systems",
   "language": "python",
   "name": "python3"
  },
  "language_info": {
   "codemirror_mode": {
    "name": "ipython",
    "version": 3
   },
   "file_extension": ".py",
   "mimetype": "text/x-python",
   "name": "python",
   "nbconvert_exporter": "python",
   "pygments_lexer": "ipython3",
   "version": "3.10.13"
  }
 },
 "nbformat": 4,
 "nbformat_minor": 2
}
